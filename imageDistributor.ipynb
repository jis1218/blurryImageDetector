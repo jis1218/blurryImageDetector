{
 "cells": [
  {
   "cell_type": "code",
   "execution_count": 1,
   "metadata": {},
   "outputs": [],
   "source": [
    "import os\n",
    "import shutil\n",
    "import glob\n",
    "import numpy as np"
   ]
  },
  {
   "cell_type": "code",
   "execution_count": 2,
   "metadata": {},
   "outputs": [
    {
     "data": {
      "text/plain": [
       "'C:\\\\Users\\\\beplu\\\\Desktop\\\\ForJupyter\\\\blurryDetector'"
      ]
     },
     "execution_count": 2,
     "metadata": {},
     "output_type": "execute_result"
    }
   ],
   "source": [
    "os.getcwd()"
   ]
  },
  {
   "cell_type": "code",
   "execution_count": 3,
   "metadata": {},
   "outputs": [
    {
     "name": "stdout",
     "output_type": "stream",
     "text": [
      "True\n",
      "True\n",
      "True\n",
      "True\n"
     ]
    }
   ],
   "source": [
    "normal_train_path = os.path.join(os.getcwd(), 'real_face_data\\\\train\\\\normal')\n",
    "normal_val_path = os.path.join(os.getcwd(), 'real_face_data\\\\validation\\\\normal')\n",
    "blurred_train_path = os.path.join(os.getcwd(), 'real_face_data\\\\train\\\\shaky')\n",
    "blurred_val_path = os.path.join(os.getcwd(), 'real_face_data\\\\validation\\\\shaky')\n",
    "\n",
    "print(os.path.exists(normal_train_path))\n",
    "print(os.path.exists(normal_val_path))\n",
    "print(os.path.exists(blurred_train_path))\n",
    "print(os.path.exists(blurred_val_path))"
   ]
  },
  {
   "cell_type": "code",
   "execution_count": 4,
   "metadata": {},
   "outputs": [
    {
     "name": "stdout",
     "output_type": "stream",
     "text": [
      "True\n",
      "True\n"
     ]
    }
   ],
   "source": [
    "normal_path = os.path.join(os.getcwd(), 'real_face_data\\\\normal')\n",
    "blurred_path = os.path.join(os.getcwd(), 'real_face_data\\\\shaky')\n",
    "print(os.path.exists(normal_path))\n",
    "print(os.path.exists(blurred_path))"
   ]
  },
  {
   "cell_type": "code",
   "execution_count": 7,
   "metadata": {},
   "outputs": [],
   "source": [
    "normal_list = [normal_train_path, normal_val_path]\n",
    "\n",
    "\n",
    "for file in os.listdir(normal_path):\n",
    "    file = os.path.join(normal_path, file)\n",
    "    dest_folder = np.random.choice(normal_list, 1, p=[0.7, 0.3])\n",
    "    shutil.copy(file, dest_folder[0])"
   ]
  },
  {
   "cell_type": "code",
   "execution_count": 8,
   "metadata": {},
   "outputs": [
    {
     "name": "stdout",
     "output_type": "stream",
     "text": [
      "C:\\Users\\beplu\\Desktop\\ForJupyter\\blurryDetector\\real_face_data\\train\\normal\n"
     ]
    }
   ],
   "source": [
    "a = [normal_train_path, normal_val_path]\n",
    "\n",
    "c = np.random.choice(a, 1, p=[0.7, 0.3])\n",
    "print(c[0])"
   ]
  },
  {
   "cell_type": "code",
   "execution_count": 9,
   "metadata": {},
   "outputs": [],
   "source": [
    "blurred_list = [blurred_train_path, blurred_val_path]\n",
    "\n",
    "for file in os.listdir(blurred_path):\n",
    "    file = os.path.join(blurred_path, file)\n",
    "    dest_folder = np.random.choice(blurred_list, 1, p=[0.7, 0.3])\n",
    "    shutil.copy(file, dest_folder[0])"
   ]
  },
  {
   "cell_type": "code",
   "execution_count": null,
   "metadata": {},
   "outputs": [],
   "source": []
  }
 ],
 "metadata": {
  "kernelspec": {
   "display_name": "Python 3",
   "language": "python",
   "name": "python3"
  },
  "language_info": {
   "codemirror_mode": {
    "name": "ipython",
    "version": 3
   },
   "file_extension": ".py",
   "mimetype": "text/x-python",
   "name": "python",
   "nbconvert_exporter": "python",
   "pygments_lexer": "ipython3",
   "version": "3.7.1"
  }
 },
 "nbformat": 4,
 "nbformat_minor": 2
}
