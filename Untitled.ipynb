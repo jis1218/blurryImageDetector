{
 "cells": [
  {
   "cell_type": "code",
   "execution_count": 1,
   "metadata": {},
   "outputs": [],
   "source": [
    "import cv2\n",
    "from PIL import Image\n",
    "import matplotlib.pyplot as plt\n",
    "import matplotlib.image as mpimg\n",
    "import os"
   ]
  },
  {
   "cell_type": "code",
   "execution_count": 2,
   "metadata": {},
   "outputs": [],
   "source": [
    "def variance_of_laplacian(image):\n",
    "    return cv2.Laplacian(image, cv2.CV_64F).var()"
   ]
  },
  {
   "cell_type": "code",
   "execution_count": 3,
   "metadata": {},
   "outputs": [],
   "source": [
    "path = 'C:\\\\Users\\\\beplu\\\\Pictures\\\\blur'"
   ]
  },
  {
   "cell_type": "code",
   "execution_count": 15,
   "metadata": {},
   "outputs": [
    {
     "name": "stdout",
     "output_type": "stream",
     "text": [
      "C:\\Users\\beplu\\Pictures\\blur\\01-07 19 18-13-58_11473_99.9158.jpg\n",
      "436.0371227702469\n",
      "C:\\Users\\beplu\\Pictures\\blur\\01-07 19 18-19-34_11473_99.91696.jpg\n",
      "449.2847919402469\n",
      "C:\\Users\\beplu\\Pictures\\blur\\01-08 19 09-37-36_11473_99.96349.jpg\n",
      "235.34629666555557\n",
      "C:\\Users\\beplu\\Pictures\\blur\\01-08 19 10-02-34_11473_98.39954.jpg\n",
      "112.83863244135802\n",
      "C:\\Users\\beplu\\Pictures\\blur\\01-24 19 14-34-22_11473_99.91251.jpg\n",
      "1301.5859618487655\n",
      "C:\\Users\\beplu\\Pictures\\blur\\01-24 19 14-34-30_11473_99.89475.jpg\n",
      "593.7953666309876\n",
      "C:\\Users\\beplu\\Pictures\\blur\\01-24 19 14-47-45_11473_99.92039.jpg\n",
      "1096.2540654809875\n",
      "C:\\Users\\beplu\\Pictures\\blur\\091749_11473.jpg\n",
      "173.1527779988889\n",
      "C:\\Users\\beplu\\Pictures\\blur\\092012_11473.jpg\n",
      "46.4807607980247\n",
      "C:\\Users\\beplu\\Pictures\\blur\\094619_11473_96.73.jpg\n",
      "19.16293156432099\n",
      "C:\\Users\\beplu\\Pictures\\blur\\102045_11473.jpg\n",
      "58.64129306654322\n",
      "C:\\Users\\beplu\\Pictures\\blur\\112656_11473_99.68.jpg\n",
      "115.61280732333333\n",
      "C:\\Users\\beplu\\Pictures\\blur\\112657_Fch4xy3B_99.54.jpg\n",
      "91.1978680680247\n",
      "C:\\Users\\beplu\\Pictures\\blur\\113702_notgood.jpg\n",
      "55.161642227654326\n",
      "C:\\Users\\beplu\\Pictures\\blur\\113703_notgood.jpg\n",
      "37.76106254024692\n",
      "C:\\Users\\beplu\\Pictures\\blur\\113706_notgood.jpg\n",
      "110.28190937172839\n",
      "C:\\Users\\beplu\\Pictures\\blur\\113708_notgood.jpg\n",
      "89.86434353777778\n",
      "C:\\Users\\beplu\\Pictures\\blur\\113709_notgood.jpg\n",
      "36.59131703395062\n",
      "C:\\Users\\beplu\\Pictures\\blur\\11473 (8).jpg\n",
      "580.9559873461728\n",
      "C:\\Users\\beplu\\Pictures\\blur\\131808_11473_98.68.jpg\n",
      "27.797198506172844\n",
      "C:\\Users\\beplu\\Pictures\\blur\\163501_11473_96.46.jpg\n",
      "62.49549386061728\n"
     ]
    }
   ],
   "source": [
    "for filename in os.listdir(path):\n",
    "    fullPath = os.path.join(path, filename)\n",
    "    image = cv2.imread(fullPath)\n",
    "    image = cv2.resize(image, dsize=(300, 300), interpolation=cv2.INTER_AREA)\n",
    "    #image = cv2.GaussianBlur(image, (3,3), 1)\n",
    "    image = cv2.cvtColor(image, cv2.COLOR_BGR2GRAY)   \n",
    "    #image = cv2.bilateralFilter(image, 3, 75, 75)\n",
    "    fm = variance_of_laplacian(image)\n",
    "    print(fullPath)\n",
    "    print(fm)"
   ]
  },
  {
   "cell_type": "code",
   "execution_count": null,
   "metadata": {},
   "outputs": [],
   "source": []
  },
  {
   "cell_type": "code",
   "execution_count": null,
   "metadata": {},
   "outputs": [],
   "source": []
  }
 ],
 "metadata": {
  "kernelspec": {
   "display_name": "Python 3",
   "language": "python",
   "name": "python3"
  },
  "language_info": {
   "codemirror_mode": {
    "name": "ipython",
    "version": 3
   },
   "file_extension": ".py",
   "mimetype": "text/x-python",
   "name": "python",
   "nbconvert_exporter": "python",
   "pygments_lexer": "ipython3",
   "version": "3.7.1"
  }
 },
 "nbformat": 4,
 "nbformat_minor": 2
}
