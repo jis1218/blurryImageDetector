{
 "cells": [
  {
   "cell_type": "code",
   "execution_count": null,
   "metadata": {},
   "outputs": [],
   "source": [
    "from __future__ import absolute_import, division, print_function, unicode_literals\n",
    "\n",
    "import tensorflow as tf\n",
    "import os\n",
    "\n",
    "import numpy as np\n",
    "import IPython.display as display\n",
    "import random"
   ]
  },
  {
   "cell_type": "code",
   "execution_count": null,
   "metadata": {},
   "outputs": [],
   "source": [
    "def image_example(image_string, label):\n",
    "    image_shape = tf.image.decode_jpeg(image_string).shape\n",
    "    print(image_shape)\n",
    "    feature = {\n",
    "        'height': _int64_feature(image_shape[0]),\n",
    "      'width': _int64_feature(image_shape[1]),\n",
    "      'depth': _int64_feature(image_shape[2]),\n",
    "      'label': _int64_feature(label),\n",
    "      'image_raw': _bytes_feature(image_string),\n",
    "    }\n",
    "    return tf.train.Example(features=tf.train.Features(feature=feature))"
   ]
  },
  {
   "cell_type": "code",
   "execution_count": null,
   "metadata": {},
   "outputs": [],
   "source": [
    "normal_image_dir = 'lfw_funneled'\n",
    "blurred_image_dir = 'lfw_blurred'\n",
    "normal_image_path = os.path.join(os.getcwd(), normal_image_dir)\n",
    "blurred_image_path = os.path.join(os.getcwd(), blurred_image_dir)\n",
    "\n",
    "normal_image_string = []\n",
    "blurred_image_string = []\n",
    "\n",
    "for folder in os.listdir(normal_image_path):\n",
    "    print(folder)\n",
    "    full_path = os.path.join(normal_image_path, folder)\n",
    "    for file in os.listdir(full_path):\n",
    "        print(file)\n",
    "        image_string = open(os.path.join(full_path, file), 'rb').read()\n",
    "        label = 0\n",
    "        normal_image_string.append([image_string, label])\n",
    "        print(image_string)\n",
    "\n",
    "\n",
    "\n",
    "\n",
    "\n",
    "        #tf_example = image_example(image_string, label)\n",
    "\n",
    "        #writer.write(tf_example.SerializeToString())\n",
    "            \n",
    "        "
   ]
  },
  {
   "cell_type": "code",
   "execution_count": null,
   "metadata": {},
   "outputs": [],
   "source": [
    "print(len(normal_image_string))\n",
    "print(normal_image_string[2])"
   ]
  },
  {
   "cell_type": "code",
   "execution_count": null,
   "metadata": {},
   "outputs": [],
   "source": [
    "for folder in os.listdir(blurred_image_path):\n",
    "    #print(folder)\n",
    "    full_path = os.path.join(blurred_image_path, folder)\n",
    "    for file in os.listdir(full_path):\n",
    "        print(file)\n",
    "        image_string = open(os.path.join(full_path, file), 'rb').read()\n",
    "        label = 1\n",
    "        blurred_image_string.append([image_string, label])\n",
    "        #tf_example = image_example(image_string, label)\n",
    "\n",
    "        #writer.write(tf_example.SerializeToString())"
   ]
  },
  {
   "cell_type": "code",
   "execution_count": null,
   "metadata": {},
   "outputs": [],
   "source": [
    "print(len(blurred_image_string))\n",
    "print(blurred_image_string[0])"
   ]
  },
  {
   "cell_type": "code",
   "execution_count": null,
   "metadata": {},
   "outputs": [],
   "source": [
    "random.shuffle(normal_image_string)\n",
    "random.shuffle(blurred_image_string)"
   ]
  },
  {
   "cell_type": "code",
   "execution_count": null,
   "metadata": {},
   "outputs": [],
   "source": [
    "train_set = normal_image_string[:int(len(normal_image_string)*0.8)] + blurred_image_string[:int(len(normal_image_string)*0.8)]\n",
    "test_set = normal_image_string[int(len(normal_image_string)*0.8):] + blurred_image_string[int(len(normal_image_string)*0.8):]\n",
    "print(len(train_set))\n",
    "print(len(test_set))"
   ]
  },
  {
   "cell_type": "code",
   "execution_count": null,
   "metadata": {},
   "outputs": [],
   "source": [
    "def _bytes_feature(value):\n",
    "    \"\"\"Returns a bytes_list from a string / byte.\"\"\"\n",
    "    if isinstance(value, type(tf.constant(0))):\n",
    "        value = value.numpy() # BytesList won't unpack a string from an EagerTensor.\n",
    "    return tf.train.Feature(bytes_list=tf.train.BytesList(value=[value]))\n",
    "\n",
    "def _float_feature(value):\n",
    "    \"\"\"Returns a float_list from a float / double.\"\"\"\n",
    "    return tf.train.Feature(float_list=tf.train.FloatList(value=[value]))\n",
    "\n",
    "def _int64_feature(value):\n",
    "    \"\"\"Returns an int64_list from a bool / enum / int / uint.\"\"\"\n",
    "    return tf.train.Feature(int64_list=tf.train.Int64List(value=[value]))"
   ]
  },
  {
   "cell_type": "code",
   "execution_count": null,
   "metadata": {},
   "outputs": [],
   "source": [
    "train_file = 'train.tfrecords'\n",
    "with tf.io.TFRecordWriter(train_file) as writer:\n",
    "    for single_set in train_set:\n",
    "        tf_example = image_example(single_set[0], single_set[1])\n",
    "        writer.write(tf_example.SerializeToString())\n",
    "        \n",
    "test_file = 'test.tfrecords'\n",
    "with tf.io.TFRecordWriter(test_file) as writer:\n",
    "    for single_set in test_set:\n",
    "        tf_example = image_example(single_set[0], single_set[1])\n",
    "        writer.write(tf_example.SerializeToString())"
   ]
  },
  {
   "cell_type": "code",
   "execution_count": null,
   "metadata": {},
   "outputs": [],
   "source": []
  }
 ],
 "metadata": {
  "kernelspec": {
   "display_name": "Python 3",
   "language": "python",
   "name": "python3"
  },
  "language_info": {
   "codemirror_mode": {
    "name": "ipython",
    "version": 3
   },
   "file_extension": ".py",
   "mimetype": "text/x-python",
   "name": "python",
   "nbconvert_exporter": "python",
   "pygments_lexer": "ipython3",
   "version": "3.7.1"
  }
 },
 "nbformat": 4,
 "nbformat_minor": 2
}
