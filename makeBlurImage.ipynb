{
 "cells": [
  {
   "cell_type": "code",
   "execution_count": null,
   "metadata": {},
   "outputs": [],
   "source": [
    "from scipy import ndimage\n",
    "import os\n",
    "from matplotlib import pyplot as plt\n",
    "import cv2"
   ]
  },
  {
   "cell_type": "code",
   "execution_count": null,
   "metadata": {},
   "outputs": [],
   "source": [
    "path = 'C:\\\\Users\\\\beplu\\\\Downloads\\\\lfw_funneled'\n",
    "blurpath = 'C:\\\\Users\\\\beplu\\\\Downloads\\\\lfw_blurred'\n"
   ]
  },
  {
   "cell_type": "code",
   "execution_count": null,
   "metadata": {},
   "outputs": [],
   "source": [
    "class Generator(object):\n",
    "    def gener(self, image, path, filename):\n",
    "        if not os.path.exists(path):\n",
    "            print(path)\n",
    "            os.mkdir(path)\n",
    "        #num = len(os.listdir(\"./newImage\\\\\" + category))\n",
    "        cv2.imwrite(os.path.join(path, filename), image)\n",
    "        "
   ]
  },
  {
   "cell_type": "code",
   "execution_count": null,
   "metadata": {},
   "outputs": [],
   "source": [
    "i=0\n",
    "generator = Generator()\n",
    "for folder in os.listdir(path):\n",
    "    parentpath = os.path.join(path, folder)\n",
    "    for pic in os.listdir(parentpath):\n",
    "        image = cv2.imread(os.path.join(parentpath, pic))\n",
    "        \n",
    "        boxcar = ndimage.uniform_filter1d(image, 20, 1)\n",
    "        \n",
    "        gauss = ndimage.gaussian_filter1d(image, 7, 1)\n",
    "        \n",
    "        generator.gener(gauss, os.path.join(blurpath, folder), pic)    \n",
    "        \n",
    "        "
   ]
  },
  {
   "cell_type": "code",
   "execution_count": null,
   "metadata": {},
   "outputs": [],
   "source": []
  }
 ],
 "metadata": {
  "kernelspec": {
   "display_name": "Python 3",
   "language": "python",
   "name": "python3"
  },
  "language_info": {
   "codemirror_mode": {
    "name": "ipython",
    "version": 3
   },
   "file_extension": ".py",
   "mimetype": "text/x-python",
   "name": "python",
   "nbconvert_exporter": "python",
   "pygments_lexer": "ipython3",
   "version": "3.7.1"
  }
 },
 "nbformat": 4,
 "nbformat_minor": 2
}
